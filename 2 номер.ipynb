{
 "cells": [
  {
   "cell_type": "code",
   "execution_count": null,
   "id": "3a81880f",
   "metadata": {},
   "outputs": [],
   "source": [
    "import matplotlib.pyplot as plt\n",
    "import numpy as np \n",
    "import random as rd\n",
    "import seaborn as sns\n",
    "\n",
    "from math import log2, exp, factorial\n",
    "from statistics import median\n",
    "\n",
    "n = 25\n",
    "data = np.random.exponential(scale=1, size=n)\n",
    "data"
   ]
  },
  {
   "cell_type": "code",
   "execution_count": null,
   "id": "e02bd6b8",
   "metadata": {},
   "outputs": [],
   "source": [
    "_, counts = np.unique(data, return_counts=True)\n",
    "moda = np.where(counts == counts.max()) # мода\n",
    "moda # по этим индексам в data лежат нужные значения"
   ]
  },
  {
   "cell_type": "code",
   "execution_count": null,
   "id": "9f0aeae6",
   "metadata": {},
   "outputs": [],
   "source": [
    "median(data) # медиана"
   ]
  },
  {
   "cell_type": "code",
   "execution_count": null,
   "id": "c88a5077",
   "metadata": {},
   "outputs": [],
   "source": [
    "max(data) - min(data) # размах"
   ]
  },
  {
   "cell_type": "code",
   "execution_count": null,
   "id": "ce905af6",
   "metadata": {},
   "outputs": [],
   "source": [
    "def M(data):\n",
    "    return sum(data)/len(data)\n",
    "mu3 = M([(x - M(data))**3 for x in data])\n",
    "mu2 = M([(x - M(data))**2 for x in data])\n",
    "mu3/(mu2)**1.5 # коэффицент ассиметрии"
   ]
  },
  {
   "cell_type": "code",
   "execution_count": null,
   "id": "61253ba5",
   "metadata": {},
   "outputs": [],
   "source": [
    "data.sort()\n",
    "for i in range(n-1):\n",
    "    plt.plot([data[i], data[i+1]], [i/n, i/n], marker = 'o', color = 'blue', ms = 3)\n",
    "plt.show() # эмпирическая функция распределения"
   ]
  },
  {
   "cell_type": "code",
   "execution_count": null,
   "id": "fbf3a941",
   "metadata": {},
   "outputs": [],
   "source": [
    "k = int(1 + log2(n))\n",
    "delta = (max(data) - min(data)) / k \n",
    "\n",
    "maximim = 0\n",
    "_, _, rec = plt.hist(data, bins = k, ec='k')\n",
    "for r in rec:\n",
    "    r.set_height(r.get_height()/len(data)/r.get_width())\n",
    "    maximim = max(maximim, r.get_height())\n",
    "\n",
    "plt.ylim([0, maximim + 0.25])"
   ]
  },
  {
   "cell_type": "code",
   "execution_count": null,
   "id": "27b5d94c",
   "metadata": {},
   "outputs": [],
   "source": [
    "sns.boxplot(x = data) # boxplot"
   ]
  },
  {
   "cell_type": "code",
   "execution_count": null,
   "id": "7c1f8906",
   "metadata": {},
   "outputs": [],
   "source": [
    "N = 1000\n",
    "\n",
    "def N_(a, D, x):\n",
    "    return 1/(D*2*np.pi)**0.5 * exp(-(x-a)**2/(2*D))\n",
    "\n",
    "k1 = int(1 + log2(N))\n",
    "\n",
    "data_bootstrap = []\n",
    "for _ in range(N):\n",
    "    d = []\n",
    "    for _ in range(len(data)):\n",
    "        d.append(rd.choice(data))\n",
    "    data_bootstrap.append(M(d))\n",
    "\n",
    "maximim = 0\n",
    "_, _, rec = plt.hist(data_bootstrap, bins = k1, ec='k')\n",
    "for r in rec:\n",
    "    r.set_height(r.get_height()/len(data_bootstrap)/r.get_width())\n",
    "    maximim = max(maximim, r.get_height())\n",
    "    \n",
    "plt.ylim([0, maximim + 0.25])\n",
    "\n",
    "X = np.linspace(0, 2, N)\n",
    "Y = np.array([N_(1, 0.04, x) for x in X])\n",
    "plt.plot(X, Y)\n",
    "plt.show() # bootstrap для среднего"
   ]
  },
  {
   "cell_type": "code",
   "execution_count": null,
   "id": "d4bfd061",
   "metadata": {},
   "outputs": [],
   "source": [
    "data_bootstrap = []\n",
    "for _ in range(N):\n",
    "    d = []\n",
    "    for _ in range(len(data)):\n",
    "        d.append(rd.choice(data))\n",
    "    mu3 = M([(x - M(d))**3 for x in d])\n",
    "    mu2 = M([(x - M(d))**2 for x in d])\n",
    "    data_bootstrap.append(mu3/(mu2)**1.5)\n",
    "\n",
    "maximim = 0\n",
    "_, _, rec = plt.hist(data_bootstrap, bins = k1, ec='k')\n",
    "for r in rec:\n",
    "    r.set_height(r.get_height()/len(data_bootstrap)/r.get_width())\n",
    "    maximim = max(maximim, r.get_height())\n",
    "    \n",
    "plt.ylim([0, maximim + 0.25])\n",
    "plt.show() # bootstrap для коэффициента симметрии"
   ]
  },
  {
   "cell_type": "code",
   "execution_count": null,
   "id": "276d13e2",
   "metadata": {},
   "outputs": [],
   "source": [
    "def h(t):\n",
    "    return n * (factorial(24)/(factorial(12)*factorial(12))) * exp(-13*t)* (1-exp(-t))**12\n",
    "\n",
    "data_bootstrap = []\n",
    "for _ in range(N):\n",
    "    d = []\n",
    "    for _ in range(len(data)):\n",
    "        d.append(rd.choice(data))\n",
    "    data_bootstrap.append(median(d))\n",
    "\n",
    "_, _, rec = plt.hist(data_bootstrap, bins = k1, ec='k')\n",
    "maximim = 0\n",
    "for r in rec:\n",
    "    r.set_height(r.get_height()/len(data_bootstrap)/r.get_width())\n",
    "    maximim = max(maximim, r.get_height())\n",
    "    \n",
    "plt.ylim([0, max(maximim, max([h(x) for x in d])) + 0.25])\n",
    "\n",
    "X = np.linspace(0, 2, N)\n",
    "Y = np.array([h(x) for x in X])\n",
    "plt.plot(X, Y)\n",
    "plt.show() # bootstrap для медианы"
   ]
  }
 ],
 "metadata": {
  "kernelspec": {
   "display_name": "Python 3 (ipykernel)",
   "language": "python",
   "name": "python3"
  },
  "language_info": {
   "codemirror_mode": {
    "name": "ipython",
    "version": 3
   },
   "file_extension": ".py",
   "mimetype": "text/x-python",
   "name": "python",
   "nbconvert_exporter": "python",
   "pygments_lexer": "ipython3",
   "version": "3.10.8"
  }
 },
 "nbformat": 4,
 "nbformat_minor": 5
}
